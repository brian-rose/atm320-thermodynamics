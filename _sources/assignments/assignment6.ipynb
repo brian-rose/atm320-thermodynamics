{
 "cells": [
  {
   "cell_type": "markdown",
   "id": "034faa4b-e846-46fb-bc39-58dee90b0c76",
   "metadata": {},
   "source": [
    "# Assignment 6\n",
    "\n",
    "Due Wednesday November 15 2023 (at start of class, or submitted electronically **via Brightspace** before class)\n",
    "\n",
    "Point values are indicated for each question.\n",
    "\n",
    "Total points: 35"
   ]
  },
  {
   "cell_type": "markdown",
   "id": "0a2311c9-dfb1-48d9-8b8d-f89ab289a00c",
   "metadata": {},
   "source": [
    "## Question 1\n",
    "\n",
    "_4 points_\n",
    "\n",
    "_(Problem 7.1 of the text)_\n",
    "\n",
    "By consulting Fig. 7.2 and Fig. 1.7, estimate the altitude at which the boiling point of water drops to room temperature (20ºC)."
   ]
  },
  {
   "cell_type": "markdown",
   "id": "7d59096a-771c-4d2c-9c4c-265135fb3c78",
   "metadata": {},
   "source": [
    "## Question 2\n",
    "\n",
    "_6 points_\n",
    "\n",
    "_(Problem 7.3 of the text)_\n",
    "\n",
    "A pot contains one kg of ice at 0ºC and is placed on a stove with a burner that provides 900 W of power to the pot. Ignoring the heat capacity of the pot itself as well as other heat losses, compute the following, using a specific heat capacity $c_{water} = 4186$ J kg$^{-1}$ K$^{-1}$ for water.\n",
    "\n",
    "a) _(2)_ The time required to melt the ice\n",
    "\n",
    "b) _(2)_ The time required to raise the water temperature to boiling\n",
    "\n",
    "c) _(2)_ The time required to boil the water away. _Hint: use a value of latent heat of vaporization valid at the boiling point._"
   ]
  },
  {
   "cell_type": "markdown",
   "id": "59228d9c-ee9b-46ba-ae5a-1d53236eb3ba",
   "metadata": {},
   "source": [
    "## Question 3\n",
    "\n",
    "_8 points_\n",
    "\n",
    "_(Based on Problem 7.4 of the text)_\n",
    "\n",
    "A container of pure water is set outside on a cold night and supercools to a temperature $T_{celsius}$ (expressed in ºC) without freezing. Once it is disturbed, however, ice crystals form and rapidly spread throughout the container until all that remains is a fairly uniform ice-water slush with temperature of 0ºC.\n",
    "\n",
    "a) _(6)_ Show that the fraction of ice $f$ in the resulting mixture depends on the initial temperature $T_{celsius}$ through this formula:\n",
    "\n",
    "$$ f = \\frac{-T_{celsius} ~c_{water}}{L_f} $$\n",
    "\n",
    "where $T_{celsius}$ is in ºC and is therefore a **negative number**.\n",
    "\n",
    "_Hint: First work out the energy required to warm the water up to 0ºC. Then work out the energy released by freezing the unknown fraction $f$ of ice at 0ºC. Set these two energies equal (which they must be in an isolated system) to determine the fraction of ice $f$._\n",
    "\n",
    "b) _(2)_ It is impossible to supercool pure water to less than about -40ºC without it spontaneously freezing. Therefore, what is the maximum fraction of ice that can be achieved from supercooled water without additional cooling?"
   ]
  },
  {
   "cell_type": "markdown",
   "id": "9ee413ec-3cdf-4eca-8656-073ce1e0a363",
   "metadata": {},
   "source": [
    "## Question 4\n",
    "\n",
    "_5 points_\n",
    "\n",
    "_(Problem 7.5 of the text)_\n",
    "\n",
    "A chemist working in a laboratory requires a version of equation (7.18) that is valid in the vicinity of the boiling point of water. Rederive the coefficients $A$ and $B$ using $T_0 = 373$ K, noting that $e_{s0}$ at this temperature is equal to one standard atmosphere, and $L=2.26 \\times 10^6$ J kg$^{-1}$."
   ]
  },
  {
   "cell_type": "markdown",
   "id": "0b315c76-e9e6-4ab3-8f54-021b671051ad",
   "metadata": {},
   "source": [
    "## Question 5\n",
    "\n",
    "_6 points_\n",
    "\n",
    "_(Problem 7.6 of the text)_\n",
    "\n",
    "Use equation (7.18) to find the dewpoint temperature $T_d$ corresponding to a mixing ratio $w$ of 20 g kg$^{-1}$ at a pressure $p$ of 1000 hPa and a temperature of 35CºC.\n",
    "\n",
    "_Hint: recall that the dewpoint satisfies the equation $ e = e_s(T_d)$, and vapor pressure can be calculated from mixing ratio and air pressure._"
   ]
  },
  {
   "cell_type": "markdown",
   "id": "1cd12cae-b5da-45af-89ed-45686419a1fd",
   "metadata": {},
   "source": [
    "## Question 6\n",
    "\n",
    "_6 points_\n",
    "\n",
    "_(Problem 7.7 of the text)_\n",
    "\n",
    "On a humid day in the central of southeastern United States, one sometimes hears the casual comment that \"it is 90 degrees (Fahrenheit) and 90% humidity.\" What dewpoint (in ºF) would this combination represent? "
   ]
  },
  {
   "cell_type": "code",
   "execution_count": null,
   "id": "c688eaa0-9070-4ac2-b0e9-6a4a3b4de62b",
   "metadata": {},
   "outputs": [],
   "source": []
  }
 ],
 "metadata": {
  "kernelspec": {
   "display_name": "Python 3 (ipykernel)",
   "language": "python",
   "name": "python3"
  },
  "language_info": {
   "codemirror_mode": {
    "name": "ipython",
    "version": 3
   },
   "file_extension": ".py",
   "mimetype": "text/x-python",
   "name": "python",
   "nbconvert_exporter": "python",
   "pygments_lexer": "ipython3",
   "version": "3.11.4"
  }
 },
 "nbformat": 4,
 "nbformat_minor": 5
}
