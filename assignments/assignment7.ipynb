{
 "cells": [
  {
   "cell_type": "markdown",
   "id": "62d54718-8a70-42ad-bb6d-cb937160d660",
   "metadata": {},
   "source": [
    "# Assignment 7\n",
    "\n",
    "Due Monday November 27 2023 (at start of class, or submitted electronically **via Brightspace** before class)\n",
    "\n",
    "Point values are indicated for each question.\n",
    "\n",
    "Total points: xx"
   ]
  },
  {
   "cell_type": "markdown",
   "id": "8c79d0aa-1397-4e95-9770-a18ec8174141",
   "metadata": {},
   "source": [
    "## Question 1\n",
    "\n",
    "_xx points_\n",
    "\n",
    "_Problem 7.8 of the text_\n",
    "\n",
    "A certain cloud consists mostly of supercooled water droplets at -10ºC and maintains the ambient air at saturation with respect to liquid water at that temperature. Compute the supersaturation (in percent) with respect to a solitary ice particle that spontaneously forms in the cloud."
   ]
  },
  {
   "cell_type": "markdown",
   "id": "eb897733-f5a5-4358-9b71-def8f34a83b6",
   "metadata": {},
   "source": [
    "## Question 2\n",
    "\n",
    "_xx points_\n",
    "\n",
    "_Based on Problem 7.11 of the text_\n",
    "\n",
    "Consider an air parcel having temperature 20ºC, dewpoint 10ºC, and pressure 900 hPa.\n",
    "\n",
    "Using the attached Skew-T diagram, plot the temperature and dewpoint. Determine the mixing ratio $w$ and saturation mixing ratio $w_s$ using the vapor lines on the Skew-T (show your work). Based on these values, what is the relative humidity of this parcel?"
   ]
  },
  {
   "cell_type": "markdown",
   "id": "1f0933ad-d37a-4ca3-8b0c-ba1eebb70924",
   "metadata": {},
   "source": [
    "## Question 3\n",
    "\n",
    "_xx points_\n",
    "\n",
    "_Based on Problem 7.12 of the text_\n",
    "\n",
    "Show that for a parcel with temperature $T$, pressure $p$, and mixing ratio $w$, the Lifting Condensation Level $p_{LCL}$ is given by\n",
    "\n",
    "$$ \\frac{w~p_{LCL}}{\\varepsilon} = A \\exp\\left[-\\frac{B}{T}\\left(\\frac{p}{p_{LCL}}\\right)^\\kappa\\right] $$\n",
    "\n",
    "You may use the approximate relationships (7.18) and (7.23) as well as Poisson's equation (5.36). Explain your reasoning.\n",
    "\n",
    "_Note, this is an example of an implicit relationship. Given values for $T$, $p$, and $w$, we could use this equation to calculate $p_{LCL}$ graphically or numerically (finding the value of $p_{LCL}$ for which the left hand and right hand sides of the equation equal each other), but we cannot write a closed algebraic solution in the form $p_{LCL} = f(T,p,w)$._"
   ]
  },
  {
   "cell_type": "markdown",
   "id": "99e61e97-4553-4695-ada7-1f272baa9eab",
   "metadata": {},
   "source": [
    "## Question 4\n",
    "\n",
    "_xx points_\n",
    "\n",
    "_Problem 7.13 from the text_\n",
    "\n",
    "During the summer, daytime temperatures are typically aroudn 30CºC both in the east central United States and over the high deserts in the west. In the first case, a typical relative humidity is 70%, while in the second, it may be as low as 10%.\n",
    "\n",
    "a) Find the corresponding dewpoints.\n",
    "\n",
    "b) Find the expected altitude in meters of the base of any convective clouds that develop from surface heating."
   ]
  },
  {
   "cell_type": "markdown",
   "id": "8449766c-4463-4b95-9365-25479902eacc",
   "metadata": {},
   "source": [
    "## Question 5\n",
    "\n",
    "_xx points_\n",
    "\n",
    "_Problem 7.14 from the text_\n",
    "\n",
    "The definition (7.55) of equivalent potential temperature assumes that all condensation results in the appearance of liquid water, regardless of temperature. If freezing occurs, additional latent heat is released, whcih further raises the temperature of the parcel. Assume that a parcel is at saturation at a temperature of freezing and a pressure of 900 hPa.\n",
    "\n",
    "a) What is the equivalent potential temperature $\\theta_e$ according to the traditional definition?\n",
    "\n",
    "b) By how much would $\\theta_e$ increase if all condensate were assumed to freeze?"
   ]
  },
  {
   "cell_type": "markdown",
   "id": "13bb8f55-ee30-4a83-928a-3d8e380edc45",
   "metadata": {},
   "source": [
    "## Question 6\n",
    "\n",
    "_xx points_\n",
    "\n",
    "_Problem 7.15_\n",
    "\n",
    "With the help of the attached Skew-T diagram, estimate the hottest possible air temperature for which the wet-bulb temperature is at or below freezing."
   ]
  },
  {
   "cell_type": "markdown",
   "id": "40022132-a93b-4de1-9eb1-353034a13309",
   "metadata": {},
   "source": [
    "## Question 7\n",
    "\n",
    "_xx points_\n",
    "\n",
    "_Problem 7.16 of the text_\n",
    "\n",
    "So-called ``swamp coolers\" are air-conditing units that use evaporation of water to cool the air passing through the unit. Estimate the minimum temperature achievable by a swamp cooler operting in\n",
    "\n",
    "a) extremely dry desert air having a temperature of 40ºC (104ºF), and\n",
    "\n",
    "b) humid summer air in the southeastern U.S. having temperature of 35ºC (95ºF) and a dewpoint of 25ºC (77ºF)."
   ]
  },
  {
   "cell_type": "markdown",
   "id": "f958ea9f-057a-4c1f-9ae4-54d58ba6d8b1",
   "metadata": {},
   "source": [
    "## Question 8\n",
    "\n",
    "_xx points_\n",
    "\n",
    "_Problem 7.21 of the text_\n",
    "\n",
    "Consider a situation in which moist air from the Pacific Ocean is advected over the Rocky Mountains and undergoes an irreversible pseudoadiabatic process during the ascent. The surface pressure on the western side is 800 hPa, the temperature is 20.6ºC, and the dewpoint in 15.7ºC. The minimum pressure at the summit is 610 hPa, and the surface pressure in Denver, Colorado is 830 hPa. Compute the following based on the assumption that the equivalent potential temperature given by (7.55) is conserved:\n",
    "\n",
    "a) The initial mixing ratio and relative humidity of the air before ascent.\n",
    "\n",
    "b) The final temperature, dewpoint, mixing ratio, and relative humidity experienced in Denver, given that the minimum temperature achieved at the top of the ascent is 6.7ºC.\n",
    "\n",
    "c) Check your answers graphically using a skew-T diagram."
   ]
  },
  {
   "cell_type": "code",
   "execution_count": null,
   "id": "10e634df-5567-46c7-bac5-568c35c99151",
   "metadata": {},
   "outputs": [],
   "source": []
  }
 ],
 "metadata": {
  "kernelspec": {
   "display_name": "Python 3 (ipykernel)",
   "language": "python",
   "name": "python3"
  },
  "language_info": {
   "codemirror_mode": {
    "name": "ipython",
    "version": 3
   },
   "file_extension": ".py",
   "mimetype": "text/x-python",
   "name": "python",
   "nbconvert_exporter": "python",
   "pygments_lexer": "ipython3",
   "version": "3.11.4"
  }
 },
 "nbformat": 4,
 "nbformat_minor": 5
}
