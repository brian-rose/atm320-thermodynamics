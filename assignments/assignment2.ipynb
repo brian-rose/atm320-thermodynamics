{
 "cells": [
  {
   "cell_type": "markdown",
   "id": "19471578-19d8-4df4-b8bc-6e9d38e9d3fb",
   "metadata": {},
   "source": [
    "# Assignment 2\n",
    "\n",
    "Due Friday September 15 2023 (at start of class, or submitted electronically via Brightspace before class)"
   ]
  },
  {
   "cell_type": "markdown",
   "id": "18cce340-db90-45ff-a212-f4fd8604f081",
   "metadata": {},
   "source": [
    "## Question 1\n",
    "\n",
    "_(Problem 2.1 of the text)_ For each case, state whether the system in question can be regarded as approximately \"isolated\", \"closed\", or \"open\" over time periods of an hour or less. In each case, justify your answer very briefly in words.\n",
    "\n",
    "1. the Earth\n",
    "2. the gas in an inflated weather balloon\n",
    "3. the same balloon with a leak\n",
    "4. a sealed jar of pickles\n",
    "5. the coffee in an uncovered mug\n",
    "6. the coffee in a sealed Thermos bottle\n",
    "7. the human body"
   ]
  },
  {
   "cell_type": "markdown",
   "id": "bd59bc5b-0e23-4109-bf3d-40313bc9e063",
   "metadata": {},
   "source": [
    "## Question 2\n",
    "\n",
    "_(Problem 2.2 of the text)_ Indicate which of the following variables can be viewed as state variables: (a) your weight $W$, (b) the volume $V$ of gasoline burned by your car on the way home from college, (c) the volume $V$ of gasoline remaining in your tank at any particular time, (d) the position in space of a weather balloon, (e) the distance traveled by the weather balloon after launch.\n",
    "\n",
    "Remember to explain your reasoning (very briefly)."
   ]
  },
  {
   "cell_type": "markdown",
   "id": "03b9079e-6f88-43d8-ab87-137423c29511",
   "metadata": {},
   "source": [
    "## Question 3\n",
    "\n",
    "_(Problem 3.3 of the text)_ A previously evacuated tank with a capacity of 0.1 m$^3$ is pressurized with one kilogram each of helium (molar mass 4.0) and nitrogen (molar mass 28.0). What is the final pressure of the mixture?"
   ]
  },
  {
   "cell_type": "markdown",
   "id": "0e5f586e-2fbe-4504-8596-cbdec5cea9ce",
   "metadata": {},
   "source": [
    "## Question 4\n",
    "\n",
    "_(Problem 3.4 of the text)_ \n",
    "\n",
    "Make sure to show your reasoning and show your work throughout.\n",
    "\n",
    "1. Standard sea level pressure is approximately 1013 hPa and standard surface temperature in the U.S. Standard Atmosphere is 15ºC. What is the density of dry air under these conditions? \n",
    "2. A sample of dry air has a pressure of 400 hPa and a density of 0.7 kg m$^{-3}$. What is its temperature in degrees Celsius?\n",
    "3. A sample of dry air has a temperature of 30ºC and a specific volume of 2.0 m$^3$ kg$^{-1}$. What is its pressure?\n",
    "4. The record low observed surface pressure (in Typhoon Tip, 1979) was 870 hPa; the record high (Mongolia, 2001) was 1087 hPa. Air temperature at the surface can easily vary between -40ºC and +50ºC. Find the densities of air corresponding to all four possible combinations of the above extremes.\n",
    "5. Based on your answers above, which of the two variables, pressure or temperature, is typically responsible for the most pronounced variations in the density of air at sea level?"
   ]
  },
  {
   "cell_type": "markdown",
   "id": "f28be799-439c-4298-9f8f-e953dd3c016f",
   "metadata": {},
   "source": [
    "## Question 5\n",
    "\n",
    "_(Problem 3.6 of the text)_ Two sealed containers with volumes $V_1$ and $V_2$, respectively, contain dry air at pressures $p_1$ and $p_2$ and room temperature $T$. The containers are connected by a thin tube (negligible volume) that can be opened with a valve. When the valve is opened, the pressures equalize, and the system reequilibrates to room temperature. Find an expression for the new pressure."
   ]
  },
  {
   "cell_type": "markdown",
   "id": "27540f93-77f2-498f-8175-a7e0e764f1c6",
   "metadata": {},
   "source": [
    "## Question 6\n",
    "\n",
    "_(Problem 3.7 of the text)_ The density $\\rho_l$ of liquid water at the boiling point (100ºC) is 958 kg m$^{-3}$. By what factor does the volume of the water increase when it changes from liquid to vapor at that temperature?"
   ]
  },
  {
   "cell_type": "markdown",
   "id": "b3505ef3-19f1-4466-875d-21ac4521b716",
   "metadata": {},
   "source": [
    "## Question 7\n",
    "\n",
    "_(Problem 3.8)_ \n",
    "\n",
    "1. Show the steps leading to equations 3.37 and 3.38 of the text (exact conversions between mixing ratio and specific humidity).\n",
    "\n",
    "2. Show that, for realistic values of either $w$ or $q$ in the free atmosphere (e.g., $w < 20$ g kg$^{-1}$), the difference between the two, expressed as an absolute value, is indeed small."
   ]
  },
  {
   "cell_type": "markdown",
   "id": "0dd87184-2c50-447b-a750-2ca2eddd50c5",
   "metadata": {},
   "source": [
    "## Question 8\n",
    "\n",
    "_(Problem 3.9 of the text)_\n",
    "\n",
    "Show the steps to derive equation 3.45 of the text:\n",
    "\n",
    "$$ p = \\rho R_d \\left[ 1 + \\left(\\frac{1}{\\varepsilon} - 1 \\right) q \\right] T $$"
   ]
  },
  {
   "cell_type": "markdown",
   "id": "c9efa3ca-18b7-4c70-8c75-f8aec5a86702",
   "metadata": {},
   "source": [
    "## Question 9\n",
    "\n",
    "_(Modified from Problem 3.10 of the text)_\n",
    "\n",
    "1. If the specific humidity $q$ in a sample of air is 22 g kg$^{-1}$ at 30ºC, find the virtual temperature $T_v$ expressed in both Kelvins and degrees Celsius.\n",
    "2. If the pressure $p$ is 1020 hPa, find the density $\\rho$.\n",
    "3. By what percentage is the above density greater or less than that for dry air at the same pressure and temperature? _(Be careful with significant figures here!)_"
   ]
  },
  {
   "cell_type": "markdown",
   "id": "3e8da04f-a89e-4355-b293-5f888c9e5623",
   "metadata": {},
   "source": [
    "## Question 10\n",
    "\n",
    "_(Modified from Problem 3.11 of the text)_\n",
    "\n",
    "On a summer day, the air conditioning breaks down and the air in your classroom becomes very warm and muggy with a vapor pressure of 20 hPa and a temperature of 27ºC.\n",
    "\n",
    "1. If the volume of the classroom is 50 m$^3$, how much water is present in the room in vapor form? Express your answer both as a mass in kg and a liquid-equivalent volume in liters, assuming that the density of liquid water is 1000 kg m$^{-3}$.\n",
    "2. If the pressure in the room is 980 hPa, what is the virtual temperature of the air? Express your answer both in K and degrees C."
   ]
  },
  {
   "cell_type": "markdown",
   "id": "acc24a4c-e402-48dc-a822-f3009cf9d82d",
   "metadata": {},
   "source": [
    "## Question 11\n",
    "\n",
    "_(Based on Problem 3.13 of the text)_\n",
    "\n",
    "A standard large tank of helium used to fill weather balloons contains 6.8 m$^3$ of the gas (measured at 1 atmosphere pressure) compressed to about 2000 pounds per square inch (psi) or 13.8 MPa.\n",
    "\n",
    "1. Calculate the volume of helium required in order for a 200 g balloon to achieve the proper free lift (i.e., the net buoyancy without a payload) according to the information in Table 1.3. Helium has a molar mass of 4.0 kg kmol$^{-1}$.\n",
    "2. By how many psi should the pressure in the tank drop to achieve the target volume?\n",
    "3. Based on conditions in a U.S. Standard Atmospere (see Appendix E.2), what is the approximate diameter of the balloon when it bursts?\n",
    "4. An impatient operator wants to get the sounding over more quickly by overinflating the balloon by 50% (by volume) and thereby increasing the ascent rate. Estimate the new altitude at which the balloon will burst, assuming that the balloon's maximum diameter before bursting does not change. How much altitude is lost?\n",
    "5. Explain why either overinflating or underinflating the balloon might be a bad idea, even if data at higher altitudes are not needed."
   ]
  },
  {
   "cell_type": "markdown",
   "id": "ac7a9a25-4139-4c2a-8d04-d4f08f4d5e40",
   "metadata": {},
   "source": [
    "## Question 12\n",
    "\n",
    "_(Problem 3.14 of the text)_\n",
    "\n",
    "A parcel of air has a temperature of 29ºC and a specific humidity of 24 g kg$^{-1}$. It is embedded in an environment having a temperature of 30ºC and a specific humidity of 5 g kg$^{-1}$.\n",
    "\n",
    "1. What is its vertical acceleration?\n",
    "2. If there are no other forces acting on it, how long would it take for the parcel to rise 10 m from its starting position?"
   ]
  },
  {
   "cell_type": "code",
   "execution_count": null,
   "id": "d2c8307d-d441-40a5-8134-b0d6284fb58a",
   "metadata": {},
   "outputs": [],
   "source": []
  }
 ],
 "metadata": {
  "kernelspec": {
   "display_name": "Python 3 (ipykernel)",
   "language": "python",
   "name": "python3"
  },
  "language_info": {
   "codemirror_mode": {
    "name": "ipython",
    "version": 3
   },
   "file_extension": ".py",
   "mimetype": "text/x-python",
   "name": "python",
   "nbconvert_exporter": "python",
   "pygments_lexer": "ipython3",
   "version": "3.11.4"
  }
 },
 "nbformat": 4,
 "nbformat_minor": 5
}
