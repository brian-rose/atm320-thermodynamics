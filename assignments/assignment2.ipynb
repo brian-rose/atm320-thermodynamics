{
 "cells": [
  {
   "cell_type": "markdown",
   "id": "19471578-19d8-4df4-b8bc-6e9d38e9d3fb",
   "metadata": {},
   "source": [
    "# Assignment 2\n",
    "\n",
    "Due Friday September 15 2023 (at start of class, or submitted electronically via Brightspace before class)"
   ]
  },
  {
   "cell_type": "markdown",
   "id": "18cce340-db90-45ff-a212-f4fd8604f081",
   "metadata": {},
   "source": [
    "## Question 1\n",
    "\n",
    "_(Problem 2.1 of the text)_ For each case, state whether the system in question can be regarded as approximately \"isolated\", \"closed\", or \"open\" over time periods of an hour or less. In each case, justify your answer very briefly in words.\n",
    "\n",
    "1. the Earth\n",
    "2. the gas in an inflated weather balloon\n",
    "3. the same balloon with a leak\n",
    "4. a sealed jar of pickles\n",
    "5. the coffee in an uncovered mug\n",
    "6. the coffee in a sealed Thermos bottle\n",
    "7. the human body"
   ]
  },
  {
   "cell_type": "markdown",
   "id": "bd59bc5b-0e23-4109-bf3d-40313bc9e063",
   "metadata": {},
   "source": [
    "## Question 2\n",
    "\n",
    "_(Problem 2.2 of the text)_ Indicate which of the following variables can be viewed as state variables: (a) your weight $W$, (b) the volume $V$ of gasoline burned by your car on the way home from college, (c) the volume $V$ of gasoline remaining in your tank at any particular time, (d) the position in space of a weather balloon, (e) the distance traveled by the weather balloon after launch.\n",
    "\n",
    "Remember to explain your reasoning (very briefly)."
   ]
  },
  {
   "cell_type": "markdown",
   "id": "03b9079e-6f88-43d8-ab87-137423c29511",
   "metadata": {},
   "source": [
    "## Question 3\n",
    "\n",
    "_(Problem 3.3 of the text)_ A previously evacuated tank with a capacity of 0.1 m$^3$ is pressurized with one kilogram each of helium (molar mass 4.0) and nitrogen (molar mass 28.0). What is the final pressure of the mixture?"
   ]
  },
  {
   "cell_type": "markdown",
   "id": "0e5f586e-2fbe-4504-8596-cbdec5cea9ce",
   "metadata": {},
   "source": [
    "## Question 4\n",
    "\n",
    "_(Problem 3.4 of the text)_ \n",
    "\n",
    "Make sure to show your reasoning and show your work throughout.\n",
    "\n",
    "1. Standard sea level pressure is approximately 1013 hPa and standard surface temperature in the U.S. Standard Atmosphere is 15ºC. What is the density of dry air under these conditions? \n",
    "2. A sample of dry air has a pressure of 400 hPa and a density of 0.7 kg m$^{-3}$. What is its temperature in degrees Celsius?\n",
    "3. A sample of dry air has a temperature of 30ºC and a specific volume of 2.0 m$^3$ kg$^{-1}$. What is its pressure?\n",
    "4. The record low observed surface pressure (in Typhoon Tip, 1979) was 870 hPa; the record high (Mongolia, 2001) was 1087 hPa. Air temperature at the surface can easily vary between -40ºC and +50ºC. Find the densities of air corresponding to all four possible combinations of the above extremes.\n",
    "5. Based on your answers above, which of the two variables, pressure or temperature, is typically responsible for the most pronounced variations in the density of air at sea level?"
   ]
  },
  {
   "cell_type": "markdown",
   "id": "2939a5e6-be2c-45dd-a6a0-f42db4446ec9",
   "metadata": {},
   "source": [
    "## Question 5\n",
    "\n",
    "_(Problem 3.5 of the text)_\n",
    "\n",
    "1. Determine the mean molar mass of the atmosphere of Venus, which consists of 95% CO$_2$ and 5% N$_2$ by volume.\n",
    "2. What is the corresponding gas constant?\n",
    "3. The mean surface temperature $T$ on Venus is a scorching 740 K as compared to only 288 K for Earth; the surface pressure is 90 times that on Earth. By what factor is the density of the near-surface Venusian atmosphere greater or less than that of Earth?"
   ]
  },
  {
   "cell_type": "markdown",
   "id": "f28be799-439c-4298-9f8f-e953dd3c016f",
   "metadata": {},
   "source": [
    "## Question 6\n",
    "\n",
    "_(Problem 3.6 of the text)_ Two sealed containers with volumes $V_1$ and $V_2$, respectively, contain dry air at pressures $p_1$ and $p_2$ and room temperature $T$. The containers are connected by a thin tube (negligible volume) that can be opened with a valve. When the valve is opened, the pressures equalize, and the system reequilibrates to room temperature. Find an expression for the new pressure."
   ]
  },
  {
   "cell_type": "code",
   "execution_count": null,
   "id": "d2c8307d-d441-40a5-8134-b0d6284fb58a",
   "metadata": {},
   "outputs": [],
   "source": []
  }
 ],
 "metadata": {
  "kernelspec": {
   "display_name": "Python 3 (ipykernel)",
   "language": "python",
   "name": "python3"
  },
  "language_info": {
   "codemirror_mode": {
    "name": "ipython",
    "version": 3
   },
   "file_extension": ".py",
   "mimetype": "text/x-python",
   "name": "python",
   "nbconvert_exporter": "python",
   "pygments_lexer": "ipython3",
   "version": "3.11.4"
  }
 },
 "nbformat": 4,
 "nbformat_minor": 5
}
