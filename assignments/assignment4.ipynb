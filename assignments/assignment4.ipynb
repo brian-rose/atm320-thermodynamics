{
 "cells": [
  {
   "cell_type": "markdown",
   "id": "ecbece36-e88e-4547-86bd-65192742af55",
   "metadata": {},
   "source": [
    "# Assignment 4\n",
    "\n",
    "Due Friday October 18 2024 (on paper at start of class, unless alternate arrangements have been made in advance)\n",
    "\n",
    "Point values are indicated for each question.\n",
    "\n",
    "Total points: 30"
   ]
  },
  {
   "cell_type": "markdown",
   "id": "0b50e150-fe04-4b6b-a890-525ce2c2546f",
   "metadata": {},
   "source": [
    "## Question 1\n",
    "\n",
    "_4 points_\n",
    "\n",
    "_(Based on Problem 4.3 of the text)_\n",
    "\n",
    "Show the mathematical steps leading from equation (4.17):\n",
    "\n",
    "$$ g(z) = \\frac{G M_E}{(r_E + z)^2} $$\n",
    "\n",
    "to equation (4.18):\n",
    "\n",
    "$$ g(z) \\approx g_0 \\left[ 1 - 2\\left(\\frac{z}{r_E}\\right) \\right] $$\n",
    "\n",
    "where\n",
    "\n",
    "$$ g_0 = \\frac{G M_E}{r_E^2} $$\n",
    "\n",
    "and $r_E$ is the radius of the Earth.\n",
    "\n",
    "### Helpful hints \n",
    "\n",
    "1. Start by defining a non-dimensional variable $x = \\frac{z}{r_E}$. \n",
    "2. Convince yourself that $x$ is always a small number, so a Taylor series (or power series, same thing) approximation should be useful.\n",
    "3. See Appendix C.3 for a refresher on how the series approximation works, for small deviations away from a known reference point.\n",
    "4. Rewrite equation (4.17) in terms of $x$ rather than $z$. Do this by substituting $z = r_E~x$ into the equation and simplifying.\n",
    "5. Use the first-order power series approximation for $g(x)$ about the reference point $x=0$. \n",
    "6. Show all the steps that lead to equation (4.18)"
   ]
  },
  {
   "cell_type": "markdown",
   "id": "43fd71da-c66f-41e9-89e8-ffb97f1923b4",
   "metadata": {},
   "source": [
    "## Question 2\n",
    "\n",
    "_5 points_\n",
    "\n",
    "_(Based on Problem 4.5 of the text)_\n",
    "\n",
    "a) _(2 points)_ Show that for the _constant density_ atmosphere, the top of the atmosphere must occur at a height $H$ above the surface, where \n",
    "\n",
    "$$ H = \\frac{R_d T_0}{g} $$\n",
    "\n",
    "where $T_0$ is the surface temperature.\n",
    "\n",
    "b) _(2 points)_ What is the temperature at the top of this atmosphere, i.e. $T(H)$? \n",
    "\n",
    "c) _(1 point)_ Based on your results above, comment on whether you think a truly constant density atmosphere could actually exist.\n",
    "\n",
    "### Helpful hints\n",
    "\n",
    "1. For constant density $\\rho_0$, the relationship between pressure and height is given by equation (4.33).\n",
    "2. The pressure at the top of the atmosphere must be zero.\n",
    "3. Surface pressure and surface temperature are related (as always) through the ideal gas law.\n",
    "4. The derivation in section 4.2.1 shows that for a constant-density atmosphere, there is a constant lapse rate $g/R_d$. Use this to find $T(H)$."
   ]
  },
  {
   "cell_type": "markdown",
   "id": "fe9e88ef-77b3-447b-9720-8b2aab4e8afa",
   "metadata": {},
   "source": [
    "## Question 3\n",
    "\n",
    "_12 points_\n",
    "\n",
    "_(Based on Problem 4.6 of the text)_\n",
    "\n",
    "a) _(3 points)_ Use the equation for $p(z)$ for a _constant density_ atmosphere to calculate the _approximate_ height of the 1000, 850, and 500 hPa levels, _assuming_ that the density thoughout the troposphere is the same as that at the surface (computed from $T_0 = 15$ºC and $p_0 = 1013.2$ hPa).\n",
    "\n",
    "b) _(3 points)_ Repeat your calculation using the somewhat more accurate expression for $p(z)$ in an _isothermal_ atmosphere, _assuming_ that the temperature of the entire atmosphere equals $T_0$ as given above.\n",
    "\n",
    "c) _(3 points)_ Finally, repeat your calculation using the _most_ accurate expression for $p(z)$, which in this case is the one for a _constant lapse rate_ atmosphere. Assume a lapse rate of $\\Gamma = 6.5 K km$^{-1}$.\n",
    "\n",
    "d) _(3 points)_ Present your results from parts a-c in a _well-formatted and labeled table_ with data in three rows and five columns. Rows should correspond to the three pressure levels. In the first three columns, report the heights you calculated for the three different model atmospheres. In the final two columns, report the errors (approximate minus true value) for the constant density and isothermal atmospheres. Take your result from part c for the constant lapse rate atmosphere as the ``true\" value. Report all values to a precision of 1 meter.\n",
    "\n",
    "### Helpful hints\n",
    "\n",
    "1. For parts a through c, write down the appropriate equation for $p(z)$ (one of 4.33, 4.45, and 4.52). Then derive a _symbolic solution_: Solve the equation for $z$ so that you have an equation for $z(p)$ instead of $p(z)$.\n",
    "2. If you're struggling with how to invert those equations to solve for $z$, remember that there is a nice review of the properties of logs and powers in Appendix C.\n",
    "3. Once you have the symbolic solution, plug in values to calculate height $z$ at each of the three pressure levels.\n",
    "4. For part d, make sure your table is neat and legible, with units clearly labeled."
   ]
  },
  {
   "cell_type": "markdown",
   "id": "67c142fb-2013-42db-b40d-775c828b2744",
   "metadata": {},
   "source": [
    "## Question 4\n",
    "\n",
    "_4 points_\n",
    "\n",
    "_(Based on Problem 4.7 of the text)_\n",
    "\n",
    "Assuming a constant lapse rate of 6.5 K km$^{-1}$ and a surface pressure near 1000 hPa, what value of the 1000-500 hPa thickness should correspond to surface temperatures near freezing?\n",
    "\n",
    "_HINT: To calculate the thickness, you need a formula for the height $z$ of a pressure surface for an atmosphere with a constant lapse rate. You should be able to reuse a formula you already derived in Question 3._"
   ]
  },
  {
   "cell_type": "markdown",
   "id": "cdd8cc54-5db5-4e82-9536-99167fd87ee7",
   "metadata": {},
   "source": [
    "## Question 5\n",
    "\n",
    "_5 points_\n",
    "\n",
    "_(Problem 4.8 of the text)_\n",
    "\n",
    "On a certain day, the atmosphere has a temperature $T_0$ of 20$^\\circ$C and a pressure $p_0$ of 1000 hPa at the surface ($z_0 = 0$). The lapse rate is $\\Gamma_0 = 6$ K km$^{-1}$ from the surface to 3 km altitude; $\\Gamma_1 = 3$ K km$^{-1}$ from 3 km to 6 km altitude. Find the pressure $p$ at an altitude of 5 km.\n",
    "\n",
    "_HINT: Apply the piecewise linear temperature profile as in section 4.2.4. Start from the surface and work upward._"
   ]
  }
 ],
 "metadata": {
  "kernelspec": {
   "display_name": "Python 3.9.6 64-bit",
   "language": "python",
   "name": "python3"
  },
  "language_info": {
   "codemirror_mode": {
    "name": "ipython",
    "version": 3
   },
   "file_extension": ".py",
   "mimetype": "text/x-python",
   "name": "python",
   "nbconvert_exporter": "python",
   "pygments_lexer": "ipython3",
   "version": "3.9.6"
  },
  "vscode": {
   "interpreter": {
    "hash": "31f2aee4e71d21fbe5cf8b01ff0e069b9275f58929596ceb00d14d90e3e16cd6"
   }
  }
 },
 "nbformat": 4,
 "nbformat_minor": 5
}
