{
 "cells": [
  {
   "cell_type": "markdown",
   "id": "6a425f0c-69df-4f8f-8cc7-870ef4136653",
   "metadata": {},
   "source": [
    "# ATM 320: Atmospheric Thermodynamics\n",
    "## Assignment 1 (Fall 2023)"
   ]
  },
  {
   "cell_type": "markdown",
   "id": "7b141570-f5a2-4e2d-932e-0a1538488170",
   "metadata": {},
   "source": [
    "### Question 1\n",
    "\n",
    "(_Problem 1.2 of the text_) From Fig. 1.2, estimate the pressure at 10,000 m altitude, which is a typical cruising altitude for transcontinental airliners. About what fraction of the atmosphere’s mass is below you when you are at that altitude, given that average sea level pressure is 1013 hPa?\r\n"
   ]
  },
  {
   "cell_type": "markdown",
   "id": "d331cf57-37f5-4ca6-bb80-f05ab7da5298",
   "metadata": {},
   "source": [
    "### Question 2\n",
    "\n",
    "(_Problem 1.3 of the text_) In Fig. 1.2a, the relationship between pressure and altitude is well approximated by a straight line. Because the pressure axis is logarithmic and the altitude axis is linear, this implies a mathematical relationship of the form:\n",
    "\n",
    "$$p\\left(x\\right)\\approx p_0\\exp{\\left(-z/H\\right)}$$\n",
    "\n",
    "where $p_0$ is the surface pressure and $H$ is called the scale height. From the figure, use the endpoints of the shaded area to estimate the average scale height.\n"
   ]
  },
  {
   "cell_type": "markdown",
   "id": "ef3593fb-d2a6-48f3-994a-0dbe870f3850",
   "metadata": {},
   "source": [
    "### Question 3 \n",
    "\n",
    "(_Based on Problem 1.4 of the text_) For the following calculations, assume a classroom with dimensions 6 m by 10 m by 3 m, or substitute .. **CHANGE THIS**\n",
    "\n",
    "(a) You have a one-liter flask containing, at room temperature and pressure, a harmless gas not normally found in air, such as sulfur hexafluoride (SF$_6$). If the gas in the flask is released and mixed thoroughly throughout the classroom, what is the final concentration of the gas in parts per million by volume?\n",
    "\n",
    "(b) Using the data given in Table 1.1, express the equivalent pure volumes of pure carbon dioxide, krypton, carbon monoxide, and chlorofluorocarbons found in the classroom, using common units such as liters, cubic centimeters, or others as appropriate."
   ]
  },
  {
   "cell_type": "markdown",
   "id": "50f6d6c4-deec-4572-af31-15508375b149",
   "metadata": {},
   "source": [
    "### Question 4 \n",
    "\n",
    "(_Problem 1.5 of the text_) On a particular day in Wisconsin, the pressure levels of 850 hPa and 700 hPa are found at altitudes of 1425 m and 2982 meters, respectively, and the corresponding temperatures are 3.8ºC and -2.9ºC. Determine the average lapse rate in degrees (to the nearest tenth) per kilometer."
   ]
  },
  {
   "cell_type": "markdown",
   "id": "b0c6965c-cabf-44ba-b719-99bfdd67bb63",
   "metadata": {},
   "source": [
    "### Question 5\n",
    "\n",
    "(_Problem 1.7 of the text_) On a particular day in International Falls, Minnesota, the tmperature is -4ºF and the wind speed is 10 knots. Determine the wind chill temperatures in degrees Fahrenheit, to the nearest degree."
   ]
  },
  {
   "cell_type": "markdown",
   "id": "a16d8d58-dab3-4c4c-ab13-2a62578d8e91",
   "metadata": {},
   "source": [
    "### Question 6\n",
    "\n",
    "(_Based on Problem 1.8 of the text_) Use the attached blank skew-T chart (which includes only isobars and isotherms) to **plot by hand** the following simplified temperature profile:\n",
    "\n",
    "| pressure (hPa) | temperature (ºC) |\n",
    "| ----------- | ----------- |\n",
    "| 1014  |  20.0   |\n",
    "|  980  |  20.3   |\n",
    "|  878  |  17.6   |\n",
    "|  830  |  19.0   |\n",
    "|  500  | -11.5   |\n",
    "|  400  | -25.1   |\n",
    "|  267  | -46.1   |\n",
    "|  213  | -49.1   |\n",
    "|  142  | -67.5   |\n",
    "|  100  | -72.7   |"
   ]
  },
  {
   "cell_type": "markdown",
   "id": "2268c3d6-73ea-4e52-80bd-9b8dd1727533",
   "metadata": {},
   "source": [
    "### Question 7\n",
    "\n",
    "a version of problem 1.6 but using python code to download and plot data"
   ]
  },
  {
   "cell_type": "code",
   "execution_count": null,
   "id": "067ed649-147c-44a8-9774-088221b14945",
   "metadata": {},
   "outputs": [],
   "source": []
  }
 ],
 "metadata": {
  "kernelspec": {
   "display_name": "Python 3 (ipykernel)",
   "language": "python",
   "name": "python3"
  },
  "language_info": {
   "codemirror_mode": {
    "name": "ipython",
    "version": 3
   },
   "file_extension": ".py",
   "mimetype": "text/x-python",
   "name": "python",
   "nbconvert_exporter": "python",
   "pygments_lexer": "ipython3",
   "version": "3.11.4"
  }
 },
 "nbformat": 4,
 "nbformat_minor": 5
}
