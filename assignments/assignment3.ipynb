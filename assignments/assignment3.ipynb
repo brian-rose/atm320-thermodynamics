{
 "cells": [
  {
   "cell_type": "markdown",
   "id": "3f6bfdaf-fe2b-4ead-929c-8781edd6bc57",
   "metadata": {},
   "source": [
    "# Assignment 3\n",
    "\n",
    "Due Friday September 22 2023 (at start of class, or submitted electronically via Brightspace before class)"
   ]
  },
  {
   "cell_type": "markdown",
   "id": "97aa2dd3-2a42-4094-aaa1-453633ec8635",
   "metadata": {},
   "source": [
    "## Question 1\n",
    "\n",
    "_(Problem 3.7 of the text)_ The density $\\rho_l$ of liquid water at the boiling point (100ºC) is 958 kg m$^{-3}$. By what factor does the volume of the water increase when it changes from liquid to vapor at that temperature?"
   ]
  },
  {
   "cell_type": "markdown",
   "id": "5bf50b0c-2a00-4cee-9c4a-4dd307bb46a6",
   "metadata": {},
   "source": [
    "## Question 2\n",
    "\n",
    "_(Problem 3.8)_ \n",
    "\n",
    "1. Show the steps leading to equations 3.37 and 3.38 of the text (exact conversions between mixing ratio and specific humidity).\n",
    "\n",
    "2. Show that, for realistic values of either $w$ or $q$ in the free atmosphere (e.g., $w < 20$ g kg$^{-1}$), the difference between the two, expressed as an absolute value, is indeed small."
   ]
  },
  {
   "cell_type": "markdown",
   "id": "9680d3fa-3666-43b2-8557-c24d8bb991d1",
   "metadata": {},
   "source": [
    "## Question 3\n",
    "\n",
    "_(Problem 3.9 of the text)_\n",
    "\n",
    "Show the steps to derive equation 3.45 of the text:\n",
    "\n",
    "$$ p = \\rho R_d \\left[ 1 + \\left(\\frac{1}{\\varepsilon} - 1 \\right) q \\right] T $$"
   ]
  },
  {
   "cell_type": "markdown",
   "id": "924197ce-a339-4c20-9574-a50ec97fb2c3",
   "metadata": {},
   "source": [
    "## Question 4\n",
    "\n",
    "_(Modified from Problem 3.10 of the text)_\n",
    "\n",
    "1. If the specific humidity $q$ in a sample of air is 22 g kg$^{-1}$ at 30ºC, find the virtual temperature $T_v$ expressed in both Kelvins and degrees Celsius.\n",
    "2. If the pressure $p$ is 1020 hPa, find the density $\\rho$.\n",
    "3. By what percentage is the above density greater or less than that for dry air at the same pressure and temperature? _(Be careful with significant figures here!)_"
   ]
  },
  {
   "cell_type": "markdown",
   "id": "76571cf5-2826-48f1-abae-017ca5e1691c",
   "metadata": {},
   "source": [
    "## Question 5\n",
    "\n",
    "_(Modified from Problem 3.11 of the text)_\n",
    "\n",
    "On a summer day, the air conditioning breaks down and the air in your classroom becomes very warm and muggy with a vapor pressure of 20 hPa and a temperature of 27ºC.\n",
    "\n",
    "1. If the volume of the classroom is 50 m$^3$, how much water is present in the room in vapor form? Express your answer both as a mass in kg and a liquid-equivalent volume in liters, assuming that the density of liquid water is 1000 kg m$^{-3}$.\n",
    "2. If the pressure in the room is 980 hPa, what is the virtual temperature of the air? Express your answer both in K and degrees C."
   ]
  },
  {
   "cell_type": "markdown",
   "id": "8b3cd582-ac30-4126-b935-cc75d294dcb6",
   "metadata": {},
   "source": [
    "###### Question 6\n",
    "\n",
    "_(Based on Problem 3.13 of the text)_\n",
    "\n",
    "A standard large tank of helium used to fill weather balloons contains 6.8 m$^3$ of the gas (measured at 1 atmosphere pressure) compressed to about 2000 pounds per square inch (psi) or 13.8 MPa.\n",
    "\n",
    "1. Calculate the volume of helium required in order for a 200 g balloon to achieve the proper free lift (i.e., the net buoyancy without a payload) according to the information in Table 1.3. Helium has a molar mass of 4.0 kg kmol$^{-1}$.\n",
    "2. By how many psi should the pressure in the tank drop to achieve the target volume?\n",
    "3. Based on conditions in a U.S. Standard Atmospere (see Appendix E.2), what is the approximate diameter of the balloon when it bursts?\n",
    "4. An impatient operator wants to get the sounding over more quickly by overinflating the balloon by 50% (by volume) and thereby increasing the ascent rate. Estimate the new altitude at which the balloon will burst, assuming that the balloon's maximum diameter before bursting does not change. How much altitude is lost?\n",
    "5. Explain why either overinflating or underinflating the balloon might be a bad idea, even if data at higher altitudes are not needed."
   ]
  },
  {
   "cell_type": "markdown",
   "id": "4f2d1ee5-4221-449f-ab68-ed0f84abe8b9",
   "metadata": {},
   "source": [
    "## Question 6\n",
    "\n",
    "_(Problem 3.14 of the text)_\n",
    "\n",
    "A parcel of air has a temperature of 29ºC and a specific humidity of 24 g kg$^{-1}$. It is embedded in an environment having a temperature of 30ºC and a specific humidity of 5 g kg$^{-1}$.\n",
    "\n",
    "1. What is its vertical acceleration?\n",
    "2. If there are no other forces acting on it, how long would it take for the parcel to rise 10 m from its starting position?"
   ]
  },
  {
   "cell_type": "code",
   "execution_count": null,
   "id": "43fd297e-ef02-4d37-8b9b-61b9d77d3fe5",
   "metadata": {},
   "outputs": [],
   "source": []
  }
 ],
 "metadata": {
  "kernelspec": {
   "display_name": "Python 3 (ipykernel)",
   "language": "python",
   "name": "python3"
  },
  "language_info": {
   "codemirror_mode": {
    "name": "ipython",
    "version": 3
   },
   "file_extension": ".py",
   "mimetype": "text/x-python",
   "name": "python",
   "nbconvert_exporter": "python",
   "pygments_lexer": "ipython3",
   "version": "3.11.4"
  }
 },
 "nbformat": 4,
 "nbformat_minor": 5
}
