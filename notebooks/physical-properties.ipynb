{
 "cells": [
  {
   "cell_type": "markdown",
   "id": "ac3dcd69-e9c9-4fe0-80e3-83d55ac46673",
   "metadata": {},
   "source": [
    "# Physical Properties of Air\n",
    "\n",
    "Supplement to Chapter 3 of [_A First Course in Atmospheric Thermodynamics_ by Grant W. Petty, Sundog Publishing, 2008](https://sundogpublishingstore.myshopify.com/products/a-first-course-in-atmospheric-thermodynamics-g-w-petty)"
   ]
  },
  {
   "cell_type": "markdown",
   "id": "d9a1cbd6-004b-440a-94bd-595f6dc09cb2",
   "metadata": {},
   "source": [
    "_Under construction_"
   ]
  },
  {
   "cell_type": "code",
   "execution_count": null,
   "id": "b7139475-9e04-4e10-8a32-9cfef2130351",
   "metadata": {},
   "outputs": [],
   "source": []
  }
 ],
 "metadata": {
  "kernelspec": {
   "display_name": "Python 3 (ipykernel)",
   "language": "python",
   "name": "python3"
  },
  "language_info": {
   "codemirror_mode": {
    "name": "ipython",
    "version": 3
   },
   "file_extension": ".py",
   "mimetype": "text/x-python",
   "name": "python",
   "nbconvert_exporter": "python",
   "pygments_lexer": "ipython3",
   "version": "3.11.4"
  }
 },
 "nbformat": 4,
 "nbformat_minor": 5
}
