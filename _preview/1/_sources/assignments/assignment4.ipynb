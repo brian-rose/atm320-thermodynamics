{
 "cells": [
  {
   "cell_type": "markdown",
   "id": "ecbece36-e88e-4547-86bd-65192742af55",
   "metadata": {},
   "source": [
    "# Assignment 4\n",
    "\n",
    "Due Friday October 13 2023 (at start of class, or submitted electronically **via Brightspace** before class)\n",
    "\n",
    "Point values are indicated for each question.\n",
    "\n",
    "Total points: 40\n",
    "\n",
    "_Corrected 10/10/2023_"
   ]
  },
  {
   "cell_type": "markdown",
   "id": "0b50e150-fe04-4b6b-a890-525ce2c2546f",
   "metadata": {},
   "source": [
    "## Question 1\n",
    "\n",
    "_4 points_\n",
    "\n",
    "_(Based on Problem 4.3 of the text)_\n",
    "\n",
    "Show the mathematical steps leading from equation (4.17):\n",
    "\n",
    "$$ g(z) = \\frac{G M_E}{(r_E + z)^2} $$\n",
    "\n",
    "to equation (4.18):\n",
    "\n",
    "$$ g(z) \\approx g_0 \\left[ 1 - 2\\left(\\frac{z}{r_E}\\right) \\right] $$\n",
    "\n",
    "where\n",
    "\n",
    "$$ g_0 = \\frac{G M_E}{r_E^2} $$\n",
    "\n",
    "_HINT: Express the equation (4.17) in terms of a small non-dimensional variable $x =  \\frac{z}{r_E}$ and use a power series approximation for $g(x)$ about the reference point $x=0$. See Appendix C.3 for a refresher on how that works._"
   ]
  },
  {
   "cell_type": "markdown",
   "id": "43fd71da-c66f-41e9-89e8-ffb97f1923b4",
   "metadata": {},
   "source": [
    "## Question 2\n",
    "\n",
    "_5 points_\n",
    "\n",
    "_(Based on Problem 4.5 of the text)_\n",
    "\n",
    "a) _(2 points)_ Show that for the _constant density_ atmosphere, the top of the atmosphere must occur at a height $H$ above the surface, where \n",
    "\n",
    "$$ H = \\frac{R_d T_0}{g} $$\n",
    "\n",
    "where $T_0$ is the surface temperature.\n",
    "\n",
    "b) _(2 points)_ What is the temperature at the top of this atmosphere, i.e. $T(H)$? \n",
    "\n",
    "c) _(1 point)_ Based on your results above, comment on whether you think a truly constant density atmosphere could actually exist."
   ]
  },
  {
   "cell_type": "markdown",
   "id": "fe9e88ef-77b3-447b-9720-8b2aab4e8afa",
   "metadata": {},
   "source": [
    "## Question 3\n",
    "\n",
    "_14 points_\n",
    "\n",
    "_(Problem 4.6 of the text)_\n",
    "\n",
    "a) _(3 points)_ Use the equation for $p(z)$ for a _constant density_ atmosphere to calculate the _approximate_ height of the 1000, 850, and 500 hPa levels, _assuming_ that the density thoughout the troposphere is the same as that at the surface (computed from $T_0 = 15$ºC and $p_0 = 1013.2$ hPa).\n",
    "\n",
    "b) _(3 points)_ Repeat your calculation using the somewhat more accurate expression for $p(z)$ in an _isothermal_ atmosphere, _assuming_ that the temperature of the entire atmosphere equals $T_0$ as given above.\n",
    "\n",
    "c) _(3 points)_ Finally, repeat your calculation using the _most_ accurate expression for $p(z)$, which in this case is the one for a _constant lapse rate_ atmosphere.\n",
    "\n",
    "d) _(2 points)_ For each of the pressure levels given, calculate the errors (approximate minus true value) in meters that results from using the simpler constant density and isothermal approximations. Use a table having the following format to present your results: rows correspond to pressure levels; first three columns correspond to three model atmospheres; final two columns give errors (approximate value minus true) for the constant density and isothermal atmospheres. Record all values to a precision of 1 meter.\n",
    "\n",
    "e) _(3 points)_ For the three model atmosphere (parts a, b, and c): From your 1000 and 850 hPa heights, obtain the layer thicknesses for this pair of pressure levels. Then, invert the hypsometric equation to find the layer mean virtual temperatures $\\overline{T_v}$."
   ]
  },
  {
   "cell_type": "markdown",
   "id": "67c142fb-2013-42db-b40d-775c828b2744",
   "metadata": {},
   "source": [
    "## Question 4\n",
    "\n",
    "_4 points_\n",
    "\n",
    "_(Based on Problem 4.7 of the text)_\n",
    "\n",
    "Assuming a constant lapse rate of 6.5 K km$^{-1}$ and a surface pressure near 1000 hPa, what value of the 1000-500 hPa thickness should correspond to surface temperatures near freezing?"
   ]
  },
  {
   "cell_type": "markdown",
   "id": "cdd8cc54-5db5-4e82-9536-99167fd87ee7",
   "metadata": {},
   "source": [
    "## Question 5\n",
    "\n",
    "_4 points_\n",
    "\n",
    "_(Problem 4.8 of the text)_\n",
    "\n",
    "On a certain day, the atmosphere has a temperature $T_0$ of 20ºC and a pressure $p_0$ of 1000 hPa at the surface ($z_0 = 0$). The lapse rate is $\\Gamma_0 = 6$ K km$^{-1}$ from the surface to 3 km altitude; $\\Gamma_1 = 3$ K km$^{-1}$ from 3 km to 6 km altitude. Find the pressure $p$ at an altitude of 5 km.\n",
    "\n",
    "_HINT: apply the piecewise linear temperature profile as in section 4.2.4. Start from the surface and work upward._"
   ]
  },
  {
   "cell_type": "markdown",
   "id": "f8747e59-9599-4fec-8e05-0389001319df",
   "metadata": {},
   "source": [
    "## Question 6\n",
    "\n",
    "_9 points_\n",
    "\n",
    "_(Problem 4.9 of the text)_\n",
    "\n",
    "The hypsometric equation (4.30) gives the thickness $\\Delta z$ of a layer bounded by two pressure levels $p_1$ and $p_2$ in terms of the layer mean virtual temperature $\\overline{T_v}$ (or just the layer mean temperature $\\overline{T}$ if the air is assumed to be dry).\n",
    "\n",
    "a) _(4 points)_ For the special case of a _constant lapse rate_ layer with bottom and top temperatures $T_1$ and $T_2$, respectively, find an exact expression for the layer mean temperature $\\overline{T}$ required by the hypsometric equation.\n",
    "\n",
    "b) _(2 points)_ If $T_1 = 280$ K and $T_2 = 276$ K, find $\\overline{T}$ to the nearest 0.1 K. Compare your result with a mean temperature derived from the much simpler arithmetic average of $T_1$ and $T_2$ _(add them together and divide by two)_\n",
    "\n",
    "c) _(2 points)_ Repeat (b), but for $T_2 = 240$ K.\n",
    "\n",
    "d) _(1 points)_ Based on your results for (b) and (c), speculate on when it is probably safe to use the simple arithmetic average of $T_1$ and $T_2$ as an approximation for the layer mean temperature."
   ]
  }
 ],
 "metadata": {
  "kernelspec": {
   "display_name": "Python 3 (ipykernel)",
   "language": "python",
   "name": "python3"
  },
  "language_info": {
   "codemirror_mode": {
    "name": "ipython",
    "version": 3
   },
   "file_extension": ".py",
   "mimetype": "text/x-python",
   "name": "python",
   "nbconvert_exporter": "python",
   "pygments_lexer": "ipython3",
   "version": "3.11.4"
  }
 },
 "nbformat": 4,
 "nbformat_minor": 5
}
